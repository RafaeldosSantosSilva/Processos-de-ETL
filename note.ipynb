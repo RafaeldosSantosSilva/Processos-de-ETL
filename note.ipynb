{
 "cells": [
  {
   "cell_type": "code",
   "execution_count": 2,
   "metadata": {},
   "outputs": [],
   "source": [
    "import pandas as pd"
   ]
  },
  {
   "cell_type": "code",
   "execution_count": 5,
   "metadata": {},
   "outputs": [
    {
     "data": {
      "text/html": [
       "<div>\n",
       "<style scoped>\n",
       "    .dataframe tbody tr th:only-of-type {\n",
       "        vertical-align: middle;\n",
       "    }\n",
       "\n",
       "    .dataframe tbody tr th {\n",
       "        vertical-align: top;\n",
       "    }\n",
       "\n",
       "    .dataframe thead th {\n",
       "        text-align: right;\n",
       "    }\n",
       "</style>\n",
       "<table border=\"1\" class=\"dataframe\">\n",
       "  <thead>\n",
       "    <tr style=\"text-align: right;\">\n",
       "      <th></th>\n",
       "      <th>Data</th>\n",
       "      <th>Produto</th>\n",
       "      <th>Quantidade</th>\n",
       "      <th>Preço</th>\n",
       "    </tr>\n",
       "  </thead>\n",
       "  <tbody>\n",
       "    <tr>\n",
       "      <th>0</th>\n",
       "      <td>NaN</td>\n",
       "      <td>Hyper Disco Ultra</td>\n",
       "      <td>41.0</td>\n",
       "      <td>1282.09</td>\n",
       "    </tr>\n",
       "    <tr>\n",
       "      <th>1</th>\n",
       "      <td>NaN</td>\n",
       "      <td>Power Processador Max</td>\n",
       "      <td>NaN</td>\n",
       "      <td>1459.91</td>\n",
       "    </tr>\n",
       "    <tr>\n",
       "      <th>2</th>\n",
       "      <td>2024-01-19 05:39:08</td>\n",
       "      <td>Hyper Placa de Vídeo Pro</td>\n",
       "      <td>7.0</td>\n",
       "      <td>271.15</td>\n",
       "    </tr>\n",
       "    <tr>\n",
       "      <th>3</th>\n",
       "      <td>2023-08-02 02:35:30</td>\n",
       "      <td>Power Fonte Ultra</td>\n",
       "      <td>25.0</td>\n",
       "      <td>1075.75</td>\n",
       "    </tr>\n",
       "    <tr>\n",
       "      <th>4</th>\n",
       "      <td>2024-01-25 01:40:29</td>\n",
       "      <td>Mega Placa X200</td>\n",
       "      <td>NaN</td>\n",
       "      <td>791.23</td>\n",
       "    </tr>\n",
       "  </tbody>\n",
       "</table>\n",
       "</div>"
      ],
      "text/plain": [
       "                  Data                   Produto  Quantidade    Preço\n",
       "0                  NaN         Hyper Disco Ultra        41.0  1282.09\n",
       "1                  NaN     Power Processador Max         NaN  1459.91\n",
       "2  2024-01-19 05:39:08  Hyper Placa de Vídeo Pro         7.0   271.15\n",
       "3  2023-08-02 02:35:30         Power Fonte Ultra        25.0  1075.75\n",
       "4  2024-01-25 01:40:29           Mega Placa X200         NaN   791.23"
      ]
     },
     "execution_count": 5,
     "metadata": {},
     "output_type": "execute_result"
    }
   ],
   "source": [
    "#Carregamento\n",
    "df = pd.read_csv('sales_data.csv')\n",
    "\n",
    "#Exibição\n",
    "df.head(5)"
   ]
  },
  {
   "cell_type": "code",
   "execution_count": 6,
   "metadata": {},
   "outputs": [
    {
     "data": {
      "text/plain": [
       "(300, 4)"
      ]
     },
     "execution_count": 6,
     "metadata": {},
     "output_type": "execute_result"
    }
   ],
   "source": [
    "df.shape"
   ]
  },
  {
   "cell_type": "code",
   "execution_count": 7,
   "metadata": {},
   "outputs": [
    {
     "data": {
      "text/plain": [
       "Data          30\n",
       "Produto       30\n",
       "Quantidade    30\n",
       "Preço         30\n",
       "dtype: int64"
      ]
     },
     "execution_count": 7,
     "metadata": {},
     "output_type": "execute_result"
    }
   ],
   "source": [
    "df.isnull().sum()"
   ]
  },
  {
   "cell_type": "code",
   "execution_count": 11,
   "metadata": {},
   "outputs": [
    {
     "data": {
      "text/plain": [
       "Data          0\n",
       "Produto       0\n",
       "Quantidade    0\n",
       "Preço         0\n",
       "dtype: int64"
      ]
     },
     "execution_count": 11,
     "metadata": {},
     "output_type": "execute_result"
    }
   ],
   "source": [
    "# Retirando dados nulos\n",
    "df_limpo = df.dropna()\n",
    "# Retirando dados duplicados\n",
    "df_limpo = df_limpo.drop_duplicates()\n",
    "df_limpo.isnull().sum()\n"
   ]
  },
  {
   "cell_type": "code",
   "execution_count": 13,
   "metadata": {},
   "outputs": [
    {
     "data": {
      "text/html": [
       "<div>\n",
       "<style scoped>\n",
       "    .dataframe tbody tr th:only-of-type {\n",
       "        vertical-align: middle;\n",
       "    }\n",
       "\n",
       "    .dataframe tbody tr th {\n",
       "        vertical-align: top;\n",
       "    }\n",
       "\n",
       "    .dataframe thead th {\n",
       "        text-align: right;\n",
       "    }\n",
       "</style>\n",
       "<table border=\"1\" class=\"dataframe\">\n",
       "  <thead>\n",
       "    <tr style=\"text-align: right;\">\n",
       "      <th></th>\n",
       "      <th>Data</th>\n",
       "      <th>Produto</th>\n",
       "      <th>Quantidade</th>\n",
       "      <th>Preço</th>\n",
       "    </tr>\n",
       "  </thead>\n",
       "  <tbody>\n",
       "    <tr>\n",
       "      <th>2</th>\n",
       "      <td>2024-01-19 05:39:08</td>\n",
       "      <td>Hyper Placa de Vídeo Pro</td>\n",
       "      <td>7.0</td>\n",
       "      <td>271.15</td>\n",
       "    </tr>\n",
       "    <tr>\n",
       "      <th>3</th>\n",
       "      <td>2023-08-02 02:35:30</td>\n",
       "      <td>Power Fonte Ultra</td>\n",
       "      <td>25.0</td>\n",
       "      <td>1075.75</td>\n",
       "    </tr>\n",
       "    <tr>\n",
       "      <th>6</th>\n",
       "      <td>2023-02-19 05:33:03</td>\n",
       "      <td>Turbo Placa Plus</td>\n",
       "      <td>12.0</td>\n",
       "      <td>1240.29</td>\n",
       "    </tr>\n",
       "    <tr>\n",
       "      <th>7</th>\n",
       "      <td>2024-01-13 00:30:18</td>\n",
       "      <td>Super Fonte Pro</td>\n",
       "      <td>33.0</td>\n",
       "      <td>1067.46</td>\n",
       "    </tr>\n",
       "    <tr>\n",
       "      <th>9</th>\n",
       "      <td>2024-06-20 07:36:59</td>\n",
       "      <td>Mega Disco Ultra</td>\n",
       "      <td>35.0</td>\n",
       "      <td>399.67</td>\n",
       "    </tr>\n",
       "  </tbody>\n",
       "</table>\n",
       "</div>"
      ],
      "text/plain": [
       "                  Data                   Produto  Quantidade    Preço\n",
       "2  2024-01-19 05:39:08  Hyper Placa de Vídeo Pro         7.0   271.15\n",
       "3  2023-08-02 02:35:30         Power Fonte Ultra        25.0  1075.75\n",
       "6  2023-02-19 05:33:03          Turbo Placa Plus        12.0  1240.29\n",
       "7  2024-01-13 00:30:18           Super Fonte Pro        33.0  1067.46\n",
       "9  2024-06-20 07:36:59          Mega Disco Ultra        35.0   399.67"
      ]
     },
     "execution_count": 13,
     "metadata": {},
     "output_type": "execute_result"
    }
   ],
   "source": [
    "df_limpo.shape\n"
   ]
  },
  {
   "cell_type": "code",
   "execution_count": 14,
   "metadata": {},
   "outputs": [
    {
     "data": {
      "text/html": [
       "<div>\n",
       "<style scoped>\n",
       "    .dataframe tbody tr th:only-of-type {\n",
       "        vertical-align: middle;\n",
       "    }\n",
       "\n",
       "    .dataframe tbody tr th {\n",
       "        vertical-align: top;\n",
       "    }\n",
       "\n",
       "    .dataframe thead th {\n",
       "        text-align: right;\n",
       "    }\n",
       "</style>\n",
       "<table border=\"1\" class=\"dataframe\">\n",
       "  <thead>\n",
       "    <tr style=\"text-align: right;\">\n",
       "      <th></th>\n",
       "      <th>Data</th>\n",
       "      <th>Produto</th>\n",
       "      <th>Quantidade</th>\n",
       "      <th>Preço</th>\n",
       "    </tr>\n",
       "  </thead>\n",
       "  <tbody>\n",
       "    <tr>\n",
       "      <th>2</th>\n",
       "      <td>2024-01-19 05:39:08</td>\n",
       "      <td>Hyper Placa de Vídeo Pro</td>\n",
       "      <td>7.0</td>\n",
       "      <td>271.15</td>\n",
       "    </tr>\n",
       "    <tr>\n",
       "      <th>3</th>\n",
       "      <td>2023-08-02 02:35:30</td>\n",
       "      <td>Power Fonte Ultra</td>\n",
       "      <td>25.0</td>\n",
       "      <td>1075.75</td>\n",
       "    </tr>\n",
       "    <tr>\n",
       "      <th>6</th>\n",
       "      <td>2023-02-19 05:33:03</td>\n",
       "      <td>Turbo Placa Plus</td>\n",
       "      <td>12.0</td>\n",
       "      <td>1240.29</td>\n",
       "    </tr>\n",
       "    <tr>\n",
       "      <th>7</th>\n",
       "      <td>2024-01-13 00:30:18</td>\n",
       "      <td>Super Fonte Pro</td>\n",
       "      <td>33.0</td>\n",
       "      <td>1067.46</td>\n",
       "    </tr>\n",
       "    <tr>\n",
       "      <th>9</th>\n",
       "      <td>2024-06-20 07:36:59</td>\n",
       "      <td>Mega Disco Ultra</td>\n",
       "      <td>35.0</td>\n",
       "      <td>399.67</td>\n",
       "    </tr>\n",
       "  </tbody>\n",
       "</table>\n",
       "</div>"
      ],
      "text/plain": [
       "                  Data                   Produto  Quantidade    Preço\n",
       "2  2024-01-19 05:39:08  Hyper Placa de Vídeo Pro         7.0   271.15\n",
       "3  2023-08-02 02:35:30         Power Fonte Ultra        25.0  1075.75\n",
       "6  2023-02-19 05:33:03          Turbo Placa Plus        12.0  1240.29\n",
       "7  2024-01-13 00:30:18           Super Fonte Pro        33.0  1067.46\n",
       "9  2024-06-20 07:36:59          Mega Disco Ultra        35.0   399.67"
      ]
     },
     "execution_count": 14,
     "metadata": {},
     "output_type": "execute_result"
    }
   ],
   "source": [
    "df_limpo.head(5)"
   ]
  },
  {
   "cell_type": "code",
   "execution_count": 15,
   "metadata": {},
   "outputs": [],
   "source": [
    "# Transformando tipos de dados\n",
    "df_limpo['Data'] = pd.to_datetime(df_limpo['Data'])"
   ]
  },
  {
   "cell_type": "code",
   "execution_count": 16,
   "metadata": {},
   "outputs": [
    {
     "name": "stdout",
     "output_type": "stream",
     "text": [
      "Dados salvos com sucesso\n"
     ]
    }
   ],
   "source": [
    "# Salvando dados tratados em um no csv\n",
    "df_limpo.to_csv('sample_data_limpo.csv', index = False)\n",
    "print('Dados salvos com sucesso')"
   ]
  },
  {
   "cell_type": "markdown",
   "metadata": {},
   "source": [
    "ETL com Integração a um Banco de Dados (SQLAlchemy)"
   ]
  },
  {
   "cell_type": "code",
   "execution_count": 19,
   "metadata": {},
   "outputs": [],
   "source": [
    "# IMPORTAÇÕES\n",
    "# Fazer as devidas instalações se necessario\n",
    "import pandas as pd\n",
    "from sqlalchemy import create_engine"
   ]
  },
  {
   "cell_type": "code",
   "execution_count": 20,
   "metadata": {},
   "outputs": [
    {
     "name": "stdout",
     "output_type": "stream",
     "text": [
      "Salvo!\n"
     ]
    }
   ],
   "source": [
    "engine = create_engine('sqlite:///vendas.db')\n",
    "\n",
    "df = pd.read_csv('sales_data.csv')\n",
    "\n",
    "df_limpo = df.dropna().drop_duplicates()\n",
    "\n",
    "df_limpo.to_sql('vendas_turu', con= engine, if_exists='replace', index = False)\n",
    "print(\"Salvo!\")"
   ]
  },
  {
   "cell_type": "markdown",
   "metadata": {},
   "source": [
    "Automatizando com Parâmetros Dinâmicos"
   ]
  },
  {
   "cell_type": "code",
   "execution_count": 25,
   "metadata": {},
   "outputs": [
    {
     "name": "stdout",
     "output_type": "stream",
     "text": [
      "Deu bom: df_limpo\n"
     ]
    }
   ],
   "source": [
    "def executar_etl(tipo_transformacao):\n",
    "  df = pd.read_csv('sales_data.csv')\n",
    "\n",
    "  if tipo_transformacao == 'remover nulos':\n",
    "    df_limpo = df.dropna()\n",
    "  elif tipo_transformacao == 'remover duplicates':\n",
    "    df_limpo = df.drop_duplicates()\n",
    "  else:\n",
    "    df_limpo = df\n",
    "\n",
    "    df_limpo.to_csv(f'Vendas_{tipo_transformacao}.csv', index = False)\n",
    "    print(f\"Deu bom: {tipo_transformacao}\")\n",
    "\n",
    "\n",
    "executar_etl('remover nulos')\n",
    "executar_etl('remover duplicates')\n",
    "executar_etl('df_limpo')"
   ]
  },
  {
   "cell_type": "markdown",
   "metadata": {},
   "source": [
    "Agendando ETL com schedule"
   ]
  },
  {
   "cell_type": "code",
   "execution_count": 26,
   "metadata": {},
   "outputs": [],
   "source": [
    "# IMPORTAÇÕES\n",
    "# Fazer as devidas instalações se necessario\n",
    "import schedule\n",
    "import pandas as pd\n",
    "import time"
   ]
  },
  {
   "cell_type": "code",
   "execution_count": 27,
   "metadata": {},
   "outputs": [
    {
     "name": "stdout",
     "output_type": "stream",
     "text": [
      "ETL executado e dados salvos.\n"
     ]
    },
    {
     "ename": "KeyboardInterrupt",
     "evalue": "",
     "output_type": "error",
     "traceback": [
      "\u001b[1;31m---------------------------------------------------------------------------\u001b[0m",
      "\u001b[1;31mKeyboardInterrupt\u001b[0m                         Traceback (most recent call last)",
      "Cell \u001b[1;32mIn[27], line 18\u001b[0m\n\u001b[0;32m     16\u001b[0m \u001b[38;5;28;01mwhile\u001b[39;00m \u001b[38;5;28;01mTrue\u001b[39;00m:\n\u001b[0;32m     17\u001b[0m     schedule\u001b[38;5;241m.\u001b[39mrun_pending()\n\u001b[1;32m---> 18\u001b[0m     \u001b[43mtime\u001b[49m\u001b[38;5;241;43m.\u001b[39;49m\u001b[43msleep\u001b[49m\u001b[43m(\u001b[49m\u001b[38;5;241;43m1\u001b[39;49m\u001b[43m)\u001b[49m\n",
      "\u001b[1;31mKeyboardInterrupt\u001b[0m: "
     ]
    }
   ],
   "source": [
    "def executar_etl():\n",
    "    # Extração\n",
    "    df = pd.read_csv('sales_data.csv')\n",
    "\n",
    "    # Transformação\n",
    "    df_clean = df.dropna().drop_duplicates()\n",
    "\n",
    "    # Carga\n",
    "    df_clean.to_csv('vendas_transformadas.csv', index=False)\n",
    "    print(\"ETL executado e dados salvos.\")\n",
    "\n",
    "# Agendar o ETL para rodar a cada minuto\n",
    "schedule.every(1).minutes.do(executar_etl)\n",
    "\n",
    "# Loop infinito para manter o agendamento\n",
    "while True:\n",
    "    schedule.run_pending()\n",
    "    time.sleep(1)"
   ]
  }
 ],
 "metadata": {
  "kernelspec": {
   "display_name": "Python 3",
   "language": "python",
   "name": "python3"
  },
  "language_info": {
   "codemirror_mode": {
    "name": "ipython",
    "version": 3
   },
   "file_extension": ".py",
   "mimetype": "text/x-python",
   "name": "python",
   "nbconvert_exporter": "python",
   "pygments_lexer": "ipython3",
   "version": "3.10.5"
  }
 },
 "nbformat": 4,
 "nbformat_minor": 2
}
